{
 "cells": [
  {
   "cell_type": "code",
   "execution_count": 97,
   "metadata": {},
   "outputs": [
    {
     "name": "stdout",
     "output_type": "stream",
     "text": [
      "720\n"
     ]
    }
   ],
   "source": [
    "import math\n",
    "def ml(n):\n",
    "    return math.prod(n)\n",
    "\n",
    "n = [1, 2, 3, 4, 5, 6]\n",
    "print(ml(n))"
   ]
  },
  {
   "cell_type": "code",
   "execution_count": 98,
   "metadata": {},
   "outputs": [
    {
     "name": "stdout",
     "output_type": "stream",
     "text": [
      "{'Up': 5, 'Low': 17}\n"
     ]
    }
   ],
   "source": [
    "def uplow(text):\n",
    "    up = sum(1 for char in text if char.isupper())\n",
    "    low = sum(1 for char in text if char.islower())\n",
    "    return {\"Up\": up, \"Low\": low}\n",
    "\n",
    "text = \"Hello World! This Is Python.\"\n",
    "print(uplow(text))  \n",
    "\n"
   ]
  },
  {
   "cell_type": "code",
   "execution_count": 99,
   "metadata": {},
   "outputs": [
    {
     "name": "stdout",
     "output_type": "stream",
     "text": [
      "True\n",
      "False\n"
     ]
    }
   ],
   "source": [
    "def pal(s):\n",
    "    return s == s[::-1]\n",
    "\n",
    "# t = \"abba\"\n",
    "print(pal(\"gagag\"))\n",
    "print(pal(\"Hello\"))"
   ]
  },
  {
   "cell_type": "code",
   "execution_count": 103,
   "metadata": {},
   "outputs": [
    {
     "name": "stdout",
     "output_type": "stream",
     "text": [
      "158.42979517754858\n",
      "square root of 25100 after 2123 is 158.42979517754858 \n"
     ]
    }
   ],
   "source": [
    "import time\n",
    "import math\n",
    "def dl(n, d):\n",
    "    time.sleep(d/1000)\n",
    "    return math.sqrt(n)\n",
    "\n",
    "n = 25100\n",
    "dm = 2123\n",
    "res = dl(n, dm)\n",
    "print(res)\n",
    "print(f\"square root of {n} after {dm} is {res} \")"
   ]
  },
  {
   "cell_type": "code",
   "execution_count": null,
   "metadata": {},
   "outputs": [],
   "source": [
    "t = (1, True, \"Hello\") \n",
    "\n",
    "result = all(t)\n",
    "\n",
    "print(result) "
   ]
  },
  {
   "cell_type": "code",
   "execution_count": null,
   "metadata": {},
   "outputs": [
    {
     "name": "stdout",
     "output_type": "stream",
     "text": [
      "Directories: ['.git', 'LaB4', 'Labs', 'LEc5']\n",
      "Files: ['alm6.ipynb', 'defense.py', 'dr.ipynb', 'dr.py', 'LaB5.ipynb', 'LaB6.ipynb']\n",
      "All: ['.git', 'alm6.ipynb', 'defense.py', 'dr.ipynb', 'dr.py', 'LaB4', 'LaB5.ipynb', 'LaB6.ipynb', 'Labs', 'LEc5']\n"
     ]
    }
   ],
   "source": [
    "import os\n",
    "\n",
    "def list(path=\".\"):\n",
    "    fle = []\n",
    "    dir = []\n",
    "    \n",
    "    for item in os.listdir(path):\n",
    "        flp = os.path.join(path, item)\n",
    "        if os.path.isdir(flp):\n",
    "            dir.append(item)\n",
    "        elif os.path.isfile(flp):\n",
    "            fle.append(item)\n",
    "    \n",
    "    print(f\"Directories: {dir}\")\n",
    "    print(f\"Files: {fle}\")\n",
    "    print(f\"All: {os.listdir(path)}\")\n",
    "\n",
    "list(\".\")  \n"
   ]
  },
  {
   "cell_type": "code",
   "execution_count": null,
   "metadata": {},
   "outputs": [],
   "source": [
    "import os\n",
    "\n",
    "def check_access(path):\n",
    "    print(f\"Existence: {os.path.exists(path)}\")\n",
    "    print(f\"Readable: {os.access(path, os.R_OK)}\")\n",
    "    print(f\"Writable: {os.access(path, os.W_OK)}\")\n",
    "    print(f\"Executable: {os.access(path, os.X_OK)}\")\n",
    "\n",
    "check_access(\"test.txt\")\n"
   ]
  },
  {
   "cell_type": "code",
   "execution_count": null,
   "metadata": {},
   "outputs": [],
   "source": [
    "import os\n",
    "\n",
    "def check_path_info(path):\n",
    "    if os.path.exists(path):\n",
    "        print(f\"Path exists: {path}\")\n",
    "        print(f\"Directory: {os.path.dirname(path)}\")\n",
    "        print(f\"Filename: {os.path.basename(path)}\")\n",
    "    else:\n",
    "        print(\"Path does not exist!\")\n",
    "\n",
    "check_path_info(\"example.txt\")\n"
   ]
  },
  {
   "cell_type": "code",
   "execution_count": null,
   "metadata": {},
   "outputs": [],
   "source": [
    "def count_lines(filename):\n",
    "    with open(filename, \"r\", encoding=\"utf-8\") as f:\n",
    "        return len(f.readlines())\n",
    "\n",
    "print(count_lines(\"example.txt\"))\n"
   ]
  },
  {
   "cell_type": "code",
   "execution_count": null,
   "metadata": {},
   "outputs": [],
   "source": [
    "def write_list_to_file(filename, data):\n",
    "    with open(filename, \"w\", encoding=\"utf-8\") as f:\n",
    "        f.writelines(\"\\n\".join(data))\n",
    "\n",
    "data = [\"Hello\", \"Python\", \"File I/O\"]\n",
    "write_list_to_file(\"output.txt\", data)\n"
   ]
  },
  {
   "cell_type": "code",
   "execution_count": null,
   "metadata": {},
   "outputs": [],
   "source": [
    "import string\n",
    "\n",
    "for letter in string.ascii_uppercase:  \n",
    "    with open(f\"{letter}.txt\", \"w\") as f:\n",
    "        f.write(f\"File {letter}.txt created!\")\n",
    "\n"
   ]
  },
  {
   "cell_type": "code",
   "execution_count": null,
   "metadata": {},
   "outputs": [],
   "source": [
    "import shutil\n",
    "\n",
    "def copy_file(source, destination):\n",
    "    shutil.copyfile(source, destination)\n",
    "\n",
    "copy_file(\"source.txt\", \"destination.txt\")\n"
   ]
  },
  {
   "cell_type": "code",
   "execution_count": null,
   "metadata": {},
   "outputs": [],
   "source": [
    "import os\n",
    "\n",
    "def delete_file(path):\n",
    "    if os.path.exists(path) and os.access(path, os.W_OK):\n",
    "        os.remove(path)\n",
    "        print(f\"Deleted: {path}\")\n",
    "    else:\n",
    "        print(\"File does not exist or no permission!\")\n",
    "\n",
    "delete_file(\"test.txt\")\n"
   ]
  }
 ],
 "metadata": {
  "kernelspec": {
   "display_name": "Python 3",
   "language": "python",
   "name": "python3"
  },
  "language_info": {
   "codemirror_mode": {
    "name": "ipython",
    "version": 3
   },
   "file_extension": ".py",
   "mimetype": "text/x-python",
   "name": "python",
   "nbconvert_exporter": "python",
   "pygments_lexer": "ipython3",
   "version": "3.11.1"
  }
 },
 "nbformat": 4,
 "nbformat_minor": 2
}
