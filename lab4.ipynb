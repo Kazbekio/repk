{
 "cells": [
  {
   "cell_type": "markdown",
   "metadata": {},
   "source": [
    "# date"
   ]
  },
  {
   "cell_type": "markdown",
   "metadata": {},
   "source": [
    "1.1 five days\n"
   ]
  },
  {
   "cell_type": "code",
   "execution_count": 36,
   "metadata": {},
   "outputs": [
    {
     "name": "stdout",
     "output_type": "stream",
     "text": [
      "2025-02-14\n"
     ]
    }
   ],
   "source": [
    "import datetime\n",
    "\n",
    "from datetime import date, timedelta\n",
    "def days_before(n):\n",
    "    n_days_before = date.today() - timedelta(n)\n",
    "    return n_days_before\n",
    "n = 5\n",
    "print(days_before(n))"
   ]
  },
  {
   "cell_type": "markdown",
   "metadata": {},
   "source": [
    "1.2 yes, tod, tom\n"
   ]
  },
  {
   "cell_type": "code",
   "execution_count": 37,
   "metadata": {},
   "outputs": [
    {
     "name": "stdout",
     "output_type": "stream",
     "text": [
      "Yesterday:  2025-02-18\n",
      "Today:  2025-02-19\n",
      "Tomorrow:  2025-02-20\n"
     ]
    }
   ],
   "source": [
    "today = datetime.date.today()\n",
    "yesterday = today - datetime.timedelta(days = 1)\n",
    "tomorrow = today + datetime.timedelta(days = 1)\n",
    "print('Yesterday: ',yesterday)\n",
    "print('Today: ',today)\n",
    "print('Tomorrow: ',tomorrow)"
   ]
  },
  {
   "cell_type": "markdown",
   "metadata": {},
   "source": [
    "1.3  microseconds"
   ]
  },
  {
   "cell_type": "code",
   "execution_count": 38,
   "metadata": {},
   "outputs": [
    {
     "name": "stdout",
     "output_type": "stream",
     "text": [
      "2025-02-19 19:54:15\n"
     ]
    }
   ],
   "source": [
    "dt = datetime.datetime.now()\n",
    "dt = dt.replace(microsecond=0)\n",
    "print(dt)"
   ]
  },
  {
   "cell_type": "markdown",
   "metadata": {},
   "source": [
    "1.4  difference in seconds"
   ]
  },
  {
   "cell_type": "code",
   "execution_count": 39,
   "metadata": {},
   "outputs": [
    {
     "name": "stdout",
     "output_type": "stream",
     "text": [
      "\n",
      "Difference in seconds: 90250\n"
     ]
    }
   ],
   "source": [
    "def diff_in_seconds(dt2, dt1):\n",
    "    timedelta = dt2 - dt1\n",
    "    return timedelta.days * 24 * 3600 + timedelta.seconds\n",
    "\n",
    "date1 = datetime.datetime(2024, 6, 23, 11, 20, 40)\n",
    "date2 = datetime.datetime(2024, 6, 24, 12, 24, 50)\n",
    "print(\"\\nDifference in seconds:\",diff_in_seconds(date2, date1))"
   ]
  },
  {
   "cell_type": "markdown",
   "metadata": {},
   "source": [
    "# Generators"
   ]
  },
  {
   "cell_type": "markdown",
   "metadata": {},
   "source": [
    "2.1 GEn sq\n"
   ]
  },
  {
   "cell_type": "code",
   "execution_count": 21,
   "metadata": {},
   "outputs": [
    {
     "name": "stdout",
     "output_type": "stream",
     "text": [
      "1\n",
      "4\n",
      "9\n",
      "16\n",
      "25\n",
      "36\n",
      "49\n",
      "64\n",
      "81\n",
      "100\n"
     ]
    }
   ],
   "source": [
    "def square(n):\n",
    "    for i in range(1, n+1):\n",
    "        yield i*i\n",
    "n = int(input(\"Enter a number: \"))\n",
    "for i in square(n):\n",
    "    print(i)"
   ]
  },
  {
   "cell_type": "markdown",
   "metadata": {},
   "source": [
    "2.2 even numbers"
   ]
  },
  {
   "cell_type": "code",
   "execution_count": 22,
   "metadata": {},
   "outputs": [
    {
     "name": "stdout",
     "output_type": "stream",
     "text": [
      "2\n",
      "4\n",
      "6\n",
      "8\n",
      "10\n"
     ]
    }
   ],
   "source": [
    "def is_even(n):\n",
    "    for i in range(1, n+1):\n",
    "        if i % 2 == 0:\n",
    "            yield i\n",
    "n = int(input(\"Enter a number: \"))\n",
    "for i in is_even(n):\n",
    "    print(i)"
   ]
  },
  {
   "cell_type": "markdown",
   "metadata": {},
   "source": [
    "2.3 div by 3 and 4\n"
   ]
  },
  {
   "cell_type": "code",
   "execution_count": 23,
   "metadata": {},
   "outputs": [
    {
     "name": "stdout",
     "output_type": "stream",
     "text": [
      "12\n",
      "24\n",
      "36\n",
      "48\n",
      "60\n",
      "72\n",
      "84\n",
      "96\n",
      "108\n",
      "120\n",
      "132\n",
      "144\n"
     ]
    }
   ],
   "source": [
    "def div34(n):\n",
    "    for i in range(1, n+1):\n",
    "        if i % 3 == 0 and i % 4 == 0:\n",
    "            yield i\n",
    "n = int(input(\"Enter a number: \"))\n",
    "for i in div34(n):\n",
    "    print(i)\n"
   ]
  },
  {
   "cell_type": "markdown",
   "metadata": {},
   "source": [
    "2.4 Generator with square from a to b"
   ]
  },
  {
   "cell_type": "code",
   "execution_count": null,
   "metadata": {},
   "outputs": [
    {
     "name": "stdout",
     "output_type": "stream",
     "text": [
      "4\n",
      "9\n",
      "16\n",
      "25\n",
      "36\n"
     ]
    }
   ],
   "source": [
    "def square_a_b(a, b):\n",
    "    for i in range(a, b+1):\n",
    "        yield i*i\n",
    "a = int(input(\"Enter a number: \"))\n",
    "b = int(input(\"Enter a number: \"))\n",
    "for i in square_a_b(a, b):\n",
    "    print(i)"
   ]
  },
  {
   "cell_type": "markdown",
   "metadata": {},
   "source": [
    "2.5 from N to 0"
   ]
  },
  {
   "cell_type": "code",
   "execution_count": null,
   "metadata": {},
   "outputs": [
    {
     "name": "stdout",
     "output_type": "stream",
     "text": [
      "5\n",
      "4\n",
      "3\n",
      "2\n",
      "1\n",
      "0\n"
     ]
    }
   ],
   "source": [
    "def pr_n_to0(n):\n",
    "    while n >= 0:\n",
    "        yield n\n",
    "        n -= 1\n",
    "n = int(input(\"Enter a number: \"))\n",
    "for i in pr_n_to0(n):\n",
    "    print(i)"
   ]
  },
  {
   "cell_type": "markdown",
   "metadata": {},
   "source": [
    "# Math"
   ]
  },
  {
   "cell_type": "markdown",
   "metadata": {},
   "source": [
    "3.1  radian"
   ]
  },
  {
   "cell_type": "code",
   "execution_count": 41,
   "metadata": {},
   "outputs": [
    {
     "name": "stdout",
     "output_type": "stream",
     "text": [
      "0.261799\n"
     ]
    }
   ],
   "source": [
    "import math\n",
    "\n",
    "n = int(input(\"Enter a number: \"))\n",
    "print(round(math.radians(n), 6))"
   ]
  },
  {
   "cell_type": "markdown",
   "metadata": {},
   "source": [
    "\n",
    "3.2  Trapezoid area"
   ]
  },
  {
   "cell_type": "code",
   "execution_count": null,
   "metadata": {},
   "outputs": [
    {
     "name": "stdout",
     "output_type": "stream",
     "text": [
      "Area of trapazoid:  27.5\n"
     ]
    }
   ],
   "source": [
    "def trapazoid(a, b, h):\n",
    "    return 0.5 * (a + b) * h\n",
    "h = float(input(\"Enter a number: \"))\n",
    "a = float(input(\"Enter a number: \"))\n",
    "b = float(input(\"Enter a number: \"))\n",
    "print(\"Area of trapazoid: \",trapazoid(a, b, h))"
   ]
  },
  {
   "cell_type": "markdown",
   "metadata": {},
   "source": [
    "3.3 area of regular polygon"
   ]
  },
  {
   "cell_type": "code",
   "execution_count": null,
   "metadata": {},
   "outputs": [
    {
     "name": "stdout",
     "output_type": "stream",
     "text": [
      "Area of polygon:  625\n"
     ]
    }
   ],
   "source": [
    "def area_polygon(n, s):\n",
    "    return (n * s**2) / (4 * math.tan(math.pi / n))\n",
    "n = int(input(\"Enter a number: \"))\n",
    "s = int(input(\"Enter a number: \"))\n",
    "print(\"Area of polygon: \",int(area_polygon(n, s)))"
   ]
  },
  {
   "cell_type": "markdown",
   "metadata": {},
   "source": [
    "3.4 parallelogram"
   ]
  },
  {
   "cell_type": "code",
   "execution_count": null,
   "metadata": {},
   "outputs": [
    {
     "name": "stdout",
     "output_type": "stream",
     "text": [
      "Area of parallelogram:  30.0\n"
     ]
    }
   ],
   "source": [
    "def parallelogram(b, h):\n",
    "    return b * h\n",
    "b = float(input(\"Enter a number: \"))\n",
    "h = float(input(\"Enter a number: \"))\n",
    "print(\"Area of parallelogram: \",parallelogram(b, h))"
   ]
  }
 ],
 "metadata": {
  "kernelspec": {
   "display_name": "Python 3",
   "language": "python",
   "name": "python3"
  },
  "language_info": {
   "codemirror_mode": {
    "name": "ipython",
    "version": 3
   },
   "file_extension": ".py",
   "mimetype": "text/x-python",
   "name": "python",
   "nbconvert_exporter": "python",
   "pygments_lexer": "ipython3",
   "version": "3.11.1"
  }
 },
 "nbformat": 4,
 "nbformat_minor": 2
}
